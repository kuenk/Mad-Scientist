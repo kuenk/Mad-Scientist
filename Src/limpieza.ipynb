{
 "cells": [
  {
   "cell_type": "code",
   "execution_count": 1,
   "metadata": {},
   "outputs": [],
   "source": [
    "#funciones de limpieza para aplicar sobre los valores numericos que tienen letras o simbolos\n",
    "def quitaletras(x,n):    \n",
    "    return x[:-n]\n",
    "#def quitaletra(x):\n",
    "#    return x[:-]\n",
    "def quitaespacios(x):\n",
    "    return str(x).replace(' ','')\n",
    "\n",
    "def horita(x):\n",
    "    x=x.replace('m','')\n",
    "    x=x.replace('s','')\n",
    "    return x"
   ]
  },
  {
   "cell_type": "code",
   "execution_count": null,
   "metadata": {},
   "outputs": [],
   "source": []
  }
 ],
 "metadata": {
  "kernelspec": {
   "display_name": "Python 3",
   "language": "python",
   "name": "python3"
  },
  "language_info": {
   "codemirror_mode": {
    "name": "ipython",
    "version": 3
   },
   "file_extension": ".py",
   "mimetype": "text/x-python",
   "name": "python",
   "nbconvert_exporter": "python",
   "pygments_lexer": "ipython3",
   "version": "3.7.4"
  }
 },
 "nbformat": 4,
 "nbformat_minor": 2
}
