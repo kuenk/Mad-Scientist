{
 "cells": [
  {
   "cell_type": "code",
   "execution_count": 1,
   "metadata": {},
   "outputs": [],
   "source": [
    "from selenium import webdriver # driver de selenium\n",
    "import time   # para manejar tiempo\n",
    "import datetime;\n",
    "from selenium.webdriver.chrome.options import Options\n",
    "from selenium.webdriver.common.by import By   # para buscar segun tag, id, class, etc...\n",
    "from selenium.webdriver.support.ui import WebDriverWait   # es para esperar\n",
    "from selenium.webdriver import ActionChains as AC   # acciones encadenadas, rollo doble click\n",
    "import re\n",
    "import numpy as np\n",
    "import asyncio\n",
    "from joblib import Parallel, delayed\n",
    "import multiprocessing as mp\n",
    "import warnings\n",
    "warnings.filterwarnings('ignore')\n",
    "import pandas as pd\n",
    "import requests\n",
    "from datetime import datetime\n",
    "import mysql.connector as conn\n",
    "from sqlalchemy import create_engine"
   ]
  },
  {
   "cell_type": "code",
   "execution_count": 2,
   "metadata": {},
   "outputs": [],
   "source": [
    "from selenium.webdriver.chrome.options import Options\n",
    "\n",
    "opciones=Options()\n",
    "\n",
    "# quita la bandera de ser robot\n",
    "opciones.add_experimental_option('excludeSwitches', ['enable-automation'])\n",
    "opciones.add_experimental_option('useAutomationExtension', False)\n",
    "\n",
    "opciones.headless=False   # si True, no aparece la ventana (headless=no visible)\n",
    "\n",
    "opciones.add_argument('--start-maximized')         # comienza maximizado\n",
    "opciones.add_argument('--incognito')              # incognito"
   ]
  },
  {
   "cell_type": "code",
   "execution_count": 3,
   "metadata": {},
   "outputs": [],
   "source": [
    "def quitaletras(x):    \n",
    "    return x[:-2]"
   ]
  },
  {
   "cell_type": "code",
   "execution_count": 4,
   "metadata": {},
   "outputs": [],
   "source": [
    "conector =  conn.connect(\n",
    "  host=\"localhost\",\n",
    "  user=\"root\",\n",
    "  password=\"1234\",\n",
    "  database=\"mad_scientist\"\n",
    ")\n",
    "\n",
    "mycursor = conector.cursor()\n"
   ]
  },
  {
   "cell_type": "code",
   "execution_count": 5,
   "metadata": {},
   "outputs": [
    {
     "data": {
      "text/plain": [
       "'20221121'"
      ]
     },
     "execution_count": 5,
     "metadata": {},
     "output_type": "execute_result"
    }
   ],
   "source": [
    "today=datetime.today() #recuperación del dia\n",
    "today=(today.strftime(\"%Y%m%d\"))\n",
    "today"
   ]
  },
  {
   "cell_type": "code",
   "execution_count": null,
   "metadata": {
    "scrolled": true
   },
   "outputs": [],
   "source": []
  },
  {
   "cell_type": "code",
   "execution_count": 6,
   "metadata": {},
   "outputs": [
    {
     "name": "stderr",
     "output_type": "stream",
     "text": [
      "[WDM] - Downloading: 100%|████████████████████████████████████████████████████████| 6.46M/6.46M [00:02<00:00, 3.07MB/s]\n"
     ]
    },
    {
     "name": "stdout",
     "output_type": "stream",
     "text": [
      "20221121 PwVx Hc9999na 1768\n",
      "20221121 Wakanda f0rever 1684\n",
      "20221121 c2 meteos 1670\n",
      "20221121 MU APA 1651\n",
      "20221121 SiddyWiddy123 1623\n",
      "20221121 Twitchtv Cupic 1611\n",
      "20221121 winnie poohbear 1522\n",
      "20221121 Topo 1508\n",
      "20221121 Fishlord 1499\n",
      "20221121 zeyzal7 1478\n",
      "20221121 Wx Mjm978244659 1416\n",
      "20221121 winstxn 1338\n",
      "20221121 ctrI c 1296\n",
      "20221121 Davemon 1327\n",
      "20221121 VEGETOOOOOOOOOOO 1304\n",
      "20221121 duoking1 1318\n",
      "20221121 Pentaless 1299\n",
      "20221121 dog kachu 1274\n",
      "20221121 TTV KoKooPuffs 1210\n",
      "20221121 Nikkone 1256\n",
      "20221121 100 Tenacity 1252\n",
      "20221121 Rebopah 1250\n",
      "20221121 known win trader 1250\n",
      "20221121 FORA999 1242\n",
      "20221121 100 Sword 1260\n",
      "20221121 lqs1 1195\n",
      "20221121 SkyTec18 1223\n",
      "20221121 Iinks 1206\n",
      "20221121 Ablazeolive 1222\n",
      "20221121 wallﬂower 1220\n",
      "20221121 wechat Hc9999na 1219\n",
      "20221121 gumaguma12 1215\n",
      "20221121 GRIZZLEY 1210\n",
      "20221121 lolDaddyVladdy 1229\n",
      "20221121 Zyko 1209\n",
      "20221121 Sarcasm Orgasm 1207\n",
      "20221121 nýchta 1207\n",
      "20221121 Repobah 1205\n",
      "20221121 10 iQ PLAYER 1203\n",
      "20221121 ƒortunate 1195\n",
      "20221121 Samikin 1194\n",
      "20221121 rocks908 1185\n",
      "20221121 niinim 1184\n",
      "20221121 Himejima Gyoumei 1184\n",
      "20221121 Prestige Bot 1177\n",
      "20221121 KryRa 1172\n",
      "20221121 Trixter2 1155\n",
      "20221121 TE AMO KARLA 1170\n",
      "20221121 TL Honda CoreJJ 1167\n",
      "20221121 TempestLoveYuely 1147\n",
      "20221121 the pob 1254\n",
      "20221121 N L 1163\n",
      "20221121 ScrubNoob 1164\n",
      "20221121 Dun 1161\n",
      "20221121 pizzaman007 1159\n",
      "20221121 One Dan 1159\n",
      "20221121 Bazz B 1157\n",
      "20221121 goo1500 1151\n",
      "20221121 1nori 1148\n",
      "20221121 TLHonda Santorin 1145\n",
      "20221121 CLG poome 1108\n",
      "20221121 TTV Pocket Rhino 1138\n",
      "20221121 adc hunter 1135\n",
      "20221121 RoseThorn 1133\n",
      "20221121 IlllIIIlllIIIll 1130\n",
      "20221121 LFT dtro18 1129\n",
      "20221121 VULCAN10 1132\n",
      "20221121 rklckp251 1120\n",
      "20221121 CaptBear 1116\n",
      "20221121 xianbaowei 1116\n",
      "20221121 FLY Yuuji 1116\n",
      "20221121 Busio3 1101\n",
      "20221121 The Tank Man 1114\n",
      "20221121 lunacia 1110\n",
      "20221121 Dragoon 1091\n",
      "20221121 KryRa2 1109\n",
      "20221121 Ka2owo 1104\n",
      "20221121 IamaNewby 1104\n",
      "20221121 tibrewxA 1102\n",
      "20221121 Bei 1083\n",
      "20221121 iNaofu 1097\n",
      "20221121 Competition9 1093\n",
      "20221121 feather of truth 1077\n",
      "20221121 Haboper 1071\n",
      "20221121 5tunt 1070\n",
      "20221121 big dacko 1065\n",
      "20221121 TabulaRasaJG 1065\n",
      "20221121 Last wisper 1058\n",
      "20221121 EU Red 1055\n",
      "20221121 rovex7 1001\n",
      "20221121 Mixtsure 1058\n",
      "20221121 Dr Pebba 1047\n",
      "20221121 Livatious 1047\n",
      "20221121 Daption2 1140\n",
      "20221121 TL Honda Bwipo 1056\n",
      "20221121 Peter Zezima 1045\n",
      "20221121 Pekin Woof 1049\n",
      "20221121 Strompest 1032\n",
      "20221121 CanCanWoodNewNew 1032\n",
      "20221121 Augustine 1029\n"
     ]
    }
   ],
   "source": [
    "\n",
    "from webdriver_manager.chrome import ChromeDriverManager\n",
    "PATH=ChromeDriverManager().install()\n",
    "URL='https://www.op.gg/'\n",
    "\n",
    "driver=webdriver.Chrome(PATH, options=opciones)\n",
    "driver.get(URL)\n",
    "time.sleep(5)\n",
    "\n",
    "texto=driver.find_element(By.XPATH, '//*[@id=\"__next\"]/header/div[2]/nav/ul/li[5]/a') #accedemos a la tabla leaderboard\n",
    "texto.click()\n",
    "time.sleep(5)\n",
    "try:\n",
    "    texto=driver.find_element(By.XPATH, '//*[@id=\"qc-cmp2-ui\"]/div[2]/div/button[2]') #aceptamos cookies\n",
    "    texto.click()\n",
    "    time.sleep(5)\n",
    "except:\n",
    "    pass\n",
    "texto=driver.find_element(By.XPATH, '//*[@id=\"content-container\"]/div[2]/div/div/div[2]/div/button') #desplegable region\n",
    "texto.click()\n",
    "time.sleep(5)\n",
    "\n",
    "texto=driver.find_element(By.XPATH, '//*[@id=\"content-container\"]/div[2]/div/div/div[2]/div/div/button[1]') #seleccionamos region NA\n",
    "texto.click()\n",
    "time.sleep(10)\n",
    "\n",
    "\n",
    "try:\n",
    "#bucle por puesto del ranking\n",
    "    for r in driver.find_elements(By.CLASS_NAME, 'css-1kk0pwf'):     \n",
    "        nombre=r.find_element(By.TAG_NAME,'a').find_element(By.CLASS_NAME,'summoner-name').text \n",
    "        # puntos\n",
    "        puntos=r.find_element(By.CLASS_NAME, 'css-1oq0a1y').text  \n",
    "        puntos=quitaletras(puntos)\n",
    "        puntos=(int(puntos.replace(',','')))\n",
    "        #insercion de la fecha en SQL\n",
    "        recuento=f'INSERT INTO ranking (date, summoner, points) VALUES ({today}, \"{nombre}\", {puntos});'\n",
    "        print(today, nombre, puntos)\n",
    "        mycursor.execute(recuento)\n",
    "    conector.commit()\n",
    "    mycursor.close()\n",
    "    conector.close()\n",
    "except:\n",
    "    conector.rollback()    \n",
    "    mycursor.close()\n",
    "    conector.close()\n",
    "\n",
    "\n",
    "driver.quit()\n",
    "\n"
   ]
  },
  {
   "cell_type": "code",
   "execution_count": null,
   "metadata": {},
   "outputs": [],
   "source": []
  }
 ],
 "metadata": {
  "kernelspec": {
   "display_name": "Python 3",
   "language": "python",
   "name": "python3"
  },
  "language_info": {
   "codemirror_mode": {
    "name": "ipython",
    "version": 3
   },
   "file_extension": ".py",
   "mimetype": "text/x-python",
   "name": "python",
   "nbconvert_exporter": "python",
   "pygments_lexer": "ipython3",
   "version": "3.7.4"
  }
 },
 "nbformat": 4,
 "nbformat_minor": 2
}
