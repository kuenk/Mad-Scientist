{
 "cells": [
  {
   "cell_type": "code",
   "execution_count": 1,
   "metadata": {},
   "outputs": [],
   "source": [
    "from selenium import webdriver # driver de selenium\n",
    "import time   # para manejar tiempo\n",
    "from selenium.webdriver.chrome.options import Options\n",
    "from selenium.webdriver.common.by import By   # para buscar segun tag, id, class, etc...\n",
    "from selenium.webdriver.support.ui import WebDriverWait   # es para esperar\n",
    "import numpy as np\n",
    "import warnings\n",
    "warnings.filterwarnings('ignore')\n",
    "import pandas as pd"
   ]
  },
  {
   "cell_type": "code",
   "execution_count": 2,
   "metadata": {},
   "outputs": [],
   "source": [
    "from selenium.webdriver.chrome.options import Options\n",
    "\n",
    "opciones=Options()\n",
    "\n",
    "# quita la bandera de ser robot\n",
    "opciones.add_experimental_option('excludeSwitches', ['enable-automation'])\n",
    "opciones.add_experimental_option('useAutomationExtension', False)\n",
    "\n",
    "opciones.headless=False   # si True, no aparece la ventana (headless=no visible)\n",
    "\n",
    "opciones.add_argument('--start-maximized')         # comienza maximizado\n",
    "#opciones.add_extension('driver/adblock.crx')       # adblocker\n",
    "\n",
    "#opciones.add_argument('user-data-dir=selenium')    # mantiene las coockies\n",
    "opciones.add_argument('--incognito')              # incognito\n",
    "#opciones.add_argument('--no-proxy-server')                 # sin proxy\n",
    "#opciones.add_argument('proxy-server=106.122.8.54:3128')    # proxy custom\n"
   ]
  },
  {
   "cell_type": "code",
   "execution_count": 3,
   "metadata": {},
   "outputs": [],
   "source": [
    "#funcion para recuperar uno por uno el perfil del link de jugadore que se le pase por parametro\n",
    "def summoners():\n",
    "    from webdriver_manager.chrome import ChromeDriverManager\n",
    "    PATH=ChromeDriverManager().install()\n",
    "    URL='https://www.op.gg/'\n",
    "\n",
    "    driver=webdriver.Chrome(PATH, options=opciones)\n",
    "\n",
    "    driver.get(URL)\n",
    "    time.sleep(10)\n",
    "  \n",
    "\n",
    "    texto=driver.find_element(By.XPATH, '//*[@id=\"__next\"]/header/div[2]/nav/ul/li[5]/a') #accedemos a la tabla leaderboard\n",
    "    texto.click()\n",
    "    time.sleep(5)\n",
    "    \n",
    "    try:\n",
    "        texto=driver.find_element(By.XPATH, '//*[@id=\"qc-cmp2-ui\"]/div[2]/div/button[2]') #aceptamos cookies\n",
    "        texto.click()\n",
    "        time.sleep(5)\n",
    "    except:\n",
    "        pass\n",
    "\n",
    "    texto=driver.find_element(By.XPATH, '//*[@id=\"content-container\"]/div[2]/div/div/div[2]/div/button') #desplegable region\n",
    "    texto.click()\n",
    "    time.sleep(5)\n",
    "\n",
    "    texto=driver.find_element(By.XPATH, '//*[@id=\"content-container\"]/div[2]/div/div/div[2]/div/div/button[1]') #seleccionamos region NA\n",
    "    texto.click()\n",
    "    time.sleep(10)\n",
    "    #recuperacion de las filas de los invocadores del ranking\n",
    "    ranking=driver.find_elements(By.CLASS_NAME, 'css-1kk0pwf')\n",
    "    time.sleep(5)\n",
    "  \n",
    "    links_summ=[]\n",
    "    for e in driver.find_elements(By.CLASS_NAME, 'css-1kk0pwf'):\n",
    "        links_summ.append(e.find_element(By.TAG_NAME, 'a').get_attribute('href'))\n",
    "  \n",
    "    driver.quit()\n",
    "    time.sleep(1)\n",
    "    #devolvemos una lista con los datos del jugador. Posteriormente en la llamada PARALEL, guardamos la lista en una \n",
    "    #lista independiente, que sera nuestro SUMMONERS\n",
    "    return links_summ"
   ]
  },
  {
   "cell_type": "code",
   "execution_count": null,
   "metadata": {},
   "outputs": [],
   "source": []
  }
 ],
 "metadata": {
  "kernelspec": {
   "display_name": "Python 3",
   "language": "python",
   "name": "python3"
  },
  "language_info": {
   "codemirror_mode": {
    "name": "ipython",
    "version": 3
   },
   "file_extension": ".py",
   "mimetype": "text/x-python",
   "name": "python",
   "nbconvert_exporter": "python",
   "pygments_lexer": "ipython3",
   "version": "3.7.4"
  }
 },
 "nbformat": 4,
 "nbformat_minor": 2
}
