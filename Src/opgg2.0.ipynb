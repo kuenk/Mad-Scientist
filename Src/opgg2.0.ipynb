{
 "cells": [
  {
   "cell_type": "code",
   "execution_count": 1,
   "metadata": {},
   "outputs": [],
   "source": [
    "from selenium import webdriver # driver de selenium\n",
    "import time   # para manejar tiempo\n",
    "from selenium.webdriver.chrome.options import Options\n",
    "from selenium.webdriver.common.by import By   # para buscar segun tag, id, class, etc...\n",
    "from selenium.webdriver.support.ui import WebDriverWait   # es para esperar\n",
    "#from selenium.webdriver.support import expected_conditions as EC  # condiciones esperadas...\n",
    "from selenium.webdriver import ActionChains as AC   # acciones encadenadas, rollo doble click\n",
    "#from selenium.webdriver.common.keys import Keys  # manejar teclas\n",
    "import re\n",
    "import asyncio\n",
    "from joblib import Parallel, delayed\n",
    "import multiprocessing as mp\n",
    "import warnings\n",
    "warnings.filterwarnings('ignore')\n",
    "import pandas as pd\n",
    "import requests"
   ]
  },
  {
   "cell_type": "code",
   "execution_count": 2,
   "metadata": {},
   "outputs": [],
   "source": [
    "from selenium.webdriver.chrome.options import Options\n",
    "\n",
    "opciones=Options()\n",
    "\n",
    "# quita la bandera de ser robot\n",
    "opciones.add_experimental_option('excludeSwitches', ['enable-automation'])\n",
    "opciones.add_experimental_option('useAutomationExtension', False)\n",
    "\n",
    "opciones.headless=False   # si True, no aparece la ventana (headless=no visible)\n",
    "\n",
    "opciones.add_argument('--start-maximized')         # comienza maximizado\n",
    "#opciones.add_extension('driver/adblock.crx')       # adblocker\n",
    "\n",
    "#opciones.add_argument('user-data-dir=selenium')    # mantiene las coockies\n",
    "opciones.add_argument('--incognito')              # incognito\n",
    "#opciones.add_argument('--no-proxy-server')                 # sin proxy\n",
    "#opciones.add_argument('proxy-server=106.122.8.54:3128')    # proxy custom"
   ]
  },
  {
   "cell_type": "code",
   "execution_count": null,
   "metadata": {},
   "outputs": [],
   "source": [
    "from webdriver_manager.chrome import ChromeDriverManager\n",
    "PATH=ChromeDriverManager().install()\n",
    "URL='https://www.op.gg/'\n",
    "\n",
    "driver=webdriver.Chrome(PATH, options=opciones)\n",
    "driver.get(URL)\n",
    "time.sleep(5)\n",
    "\n",
    "texto=driver.find_element(By.XPATH, '//*[@id=\"__next\"]/header/div[2]/nav/ul/li[5]/a') #leaderboard\n",
    "texto.click()\n",
    "time.sleep(5)\n",
    "\n",
    "texto=driver.find_element(By.XPATH, '//*[@id=\"qc-cmp2-ui\"]/div[2]/div/button[2]') #cookies\n",
    "texto.click()\n",
    "time.sleep(5)\n",
    "\n",
    "texto=driver.find_element(By.XPATH, '//*[@id=\"content-container\"]/div[2]/div/div/div[2]/div/button') #region\n",
    "texto.click()\n",
    "time.sleep(5)\n",
    "\n",
    "texto=driver.find_element(By.XPATH, '//*[@id=\"content-container\"]/div[2]/div/div/div[2]/div/div/button[1]') #NA\n",
    "texto.click()\n",
    "time.sleep(10)\n",
    "\n",
    "ranking=driver.find_elements(By.CLASS_NAME, 'css-1kk0pwf')"
   ]
  },
  {
   "cell_type": "code",
   "execution_count": null,
   "metadata": {},
   "outputs": [],
   "source": [
    "SUMMONERS=[]\n",
    "CABECERA=['Summoner','Points','Total victorys','Total defeats']"
   ]
  },
  {
   "cell_type": "code",
   "execution_count": null,
   "metadata": {},
   "outputs": [],
   "source": [
    "def summoners(link):\n",
    "    driver=webdriver.Chrome(PATH, options=opciones)\n",
    "    driver.get(link)\n",
    "    time.sleep(10)\n",
    "    \n",
    "    jugadores=[]\n",
    "    try:\n",
    "        texto=driver.find_element(By.XPATH, '//*[@id=\"qc-cmp2-ui\"]/div[2]/div/button[2]') #cookies\n",
    "        texto.click()\n",
    "        time.sleep(5)\n",
    "    except:\n",
    "        pass\n",
    "    #PLAYER NAME\n",
    "    jugadores.append(find_element(By.TAG_NAME, 'a').text)\n",
    "    #PLAYER POINTS\n",
    "    jugadores.append(find_element(By.CLASS_NAME, 'css-1oq0a1y').text)\n",
    "    #WIN\n",
    "    jugadores.append(find_element(By.CLASS_NAME, 'w').text)\n",
    "    #LOST\n",
    "    jugadores.append(find_element(By.CLASS_NAME, 'l').text)\n",
    "    #MOST PLAYED CHAMPS\n",
    "    \n",
    "    for e in driver.find_element(By.CLASS_NAME,'css-4qokog'):\n",
    "        for h in e.find_elements(By.TAG_NAME, 'a'):\n",
    "            jugadores.append(h.get_attribute('href'))\n",
    "    #POSITION \n",
    "    #aux=driver.find_element(By.XPATH, '//*[@id=\"content-container\"]/div[2]/div[2]/div[3]').find_element(By.TAG_NAME,'ul')\n",
    "    #line_per=[]\n",
    "    #i=0\n",
    "    #for e in aux.find_elements(By.TAG_NAME, 'li'):\n",
    "    #    line_per=re.findall(r'[0-9]+',(e.find_element(By.CLASS_NAME, 'gauge').get_attribute('style')))\n",
    "    #    jugadores.append(line_per[0])\n",
    "    \n",
    "    driver.quit()\n",
    "    time.sleep(1)\n",
    "    #devolvemos una lista con los datos del jugador. Posteriormente en la llamada PARALEL, guardamos la lista en una \n",
    "    #lista independiente, que sera nuestro SUMMONERS\n",
    "    return jugadores"
   ]
  },
  {
   "cell_type": "code",
   "execution_count": null,
   "metadata": {},
   "outputs": [],
   "source": []
  },
  {
   "cell_type": "code",
   "execution_count": null,
   "metadata": {},
   "outputs": [],
   "source": []
  },
  {
   "cell_type": "code",
   "execution_count": null,
   "metadata": {},
   "outputs": [],
   "source": []
  },
  {
   "cell_type": "code",
   "execution_count": null,
   "metadata": {},
   "outputs": [],
   "source": []
  },
  {
   "cell_type": "code",
   "execution_count": null,
   "metadata": {},
   "outputs": [],
   "source": []
  },
  {
   "cell_type": "code",
   "execution_count": null,
   "metadata": {},
   "outputs": [],
   "source": []
  },
  {
   "cell_type": "code",
   "execution_count": null,
   "metadata": {},
   "outputs": [],
   "source": []
  },
  {
   "cell_type": "code",
   "execution_count": null,
   "metadata": {},
   "outputs": [],
   "source": [
    "\n",
    "driver.quit()"
   ]
  },
  {
   "cell_type": "code",
   "execution_count": null,
   "metadata": {},
   "outputs": [],
   "source": []
  },
  {
   "cell_type": "code",
   "execution_count": null,
   "metadata": {},
   "outputs": [],
   "source": []
  },
  {
   "cell_type": "code",
   "execution_count": null,
   "metadata": {},
   "outputs": [],
   "source": []
  }
 ],
 "metadata": {
  "kernelspec": {
   "display_name": "Python 3",
   "language": "python",
   "name": "python3"
  },
  "language_info": {
   "codemirror_mode": {
    "name": "ipython",
    "version": 3
   },
   "file_extension": ".py",
   "mimetype": "text/x-python",
   "name": "python",
   "nbconvert_exporter": "python",
   "pygments_lexer": "ipython3",
   "version": "3.7.4"
  }
 },
 "nbformat": 4,
 "nbformat_minor": 2
}
